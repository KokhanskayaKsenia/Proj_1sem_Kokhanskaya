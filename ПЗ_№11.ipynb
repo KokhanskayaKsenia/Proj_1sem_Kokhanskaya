{
  "nbformat": 4,
  "nbformat_minor": 0,
  "metadata": {
    "colab": {
      "name": "ПЗ №11",
      "provenance": [],
      "authorship_tag": "ABX9TyPeBz/FPouZATkRuSolhJwU",
      "include_colab_link": true
    },
    "kernelspec": {
      "name": "python3",
      "display_name": "Python 3"
    },
    "language_info": {
      "name": "python"
    }
  },
  "cells": [
    {
      "cell_type": "markdown",
      "metadata": {
        "id": "view-in-github",
        "colab_type": "text"
      },
      "source": [
        "<a href=\"https://colab.research.google.com/github/KokhanskayaKsenia/Proj_1sem_Kokhanskaya/blob/master/%D0%9F%D0%97_%E2%84%9611.ipynb\" target=\"_parent\"><img src=\"https://colab.research.google.com/assets/colab-badge.svg\" alt=\"Open In Colab\"/></a>"
      ]
    },
    {
      "cell_type": "markdown",
      "source": [
        "Pz_3_1"
      ],
      "metadata": {
        "id": "fw0Pvg1eECdw"
      }
    },
    {
      "cell_type": "code",
      "execution_count": null,
      "metadata": {
        "colab": {
          "base_uri": "https://localhost:8080/"
        },
        "id": "cPKXVhwnBuT3",
        "outputId": "c5a4467b-6e24-4a98-e53b-1050a6acc3f5"
      },
      "outputs": [
        {
          "output_type": "stream",
          "name": "stdout",
          "text": [
            "Введите значение A, которое целое число\n",
            "25\n",
            "Введите значение B, которое целое число\n",
            "60\n",
            "Правда\n"
          ]
        }
      ],
      "source": [
        "# Даны два целых числа: A, B. Проверить истинность высказывания: \n",
        "# «Ровно одно из чисел A и B нечетное».\n",
        "print('Введите значение A, которое целое число')\n",
        "A = int(input())\n",
        "print('Введите значение B, которое целое число')\n",
        "B = int(input())\n",
        "if A%2 == 1:\n",
        "    if B%2 == 1:\n",
        "        print('Ложь')\n",
        "    else:\n",
        "        print('Правда')\n",
        "else:\n",
        "    if B%2 == 1:\n",
        "        print('Правда')\n",
        "    else:\n",
        "         print('Ложь') "
      ]
    },
    {
      "cell_type": "markdown",
      "source": [
        "Pz_4_1"
      ],
      "metadata": {
        "id": "xcqnsWTdEn5i"
      }
    },
    {
      "cell_type": "code",
      "source": [
        "# Дано целое число N (> 0). Найти сумму N2 + (N + 1)2 + (N + 2)2 + ... + (2N)2\n",
        "print('Введите число N, которое больше 0')\n",
        "N = int(input())\n",
        "if N > 0:\n",
        "    i = 0\n",
        "    S = 0\n",
        "    for i in range(1, N+1):\n",
        "        S = S+(N+i)**2\n",
        "        i = i+1\n",
        "    print('Итог выражения равен ', S)\n",
        "else:\n",
        "    print('Не соответствует условию задачи')"
      ],
      "metadata": {
        "colab": {
          "base_uri": "https://localhost:8080/"
        },
        "id": "aJYmGfNtEwcF",
        "outputId": "535fec4a-4ae1-41f4-e3e2-a7537bd9914d"
      },
      "execution_count": null,
      "outputs": [
        {
          "output_type": "stream",
          "name": "stdout",
          "text": [
            "Введите число N, которое больше 0\n",
            "5\n",
            "Итог выражения равен  330\n"
          ]
        }
      ]
    },
    {
      "cell_type": "markdown",
      "source": [
        "Pz_5_1"
      ],
      "metadata": {
        "id": "obF7iguWGXfm"
      }
    },
    {
      "cell_type": "code",
      "source": [
        "# Составить функцию решения задачи: из заданного числа вычли сумму его цифр. \n",
        "# Из результата вновь вычли сумму его цифр и т. д. \n",
        "# Через сколько таких действий получится нуль?\n",
        "print('Введите число N')\n",
        "N = int(input())\n",
        "K = 0\n",
        "\n",
        "def sumDidgits(N): # Вычисляем сумму цифр\n",
        "    sum = 0\n",
        "    while N!=0:\n",
        "        sum += N%10\n",
        "        N = N//10\n",
        "    return sum\n",
        "while N!=0:\n",
        "    N = N-sumDidgits(N)\n",
        "    K = K+1\n",
        "print('Операция выполнена ', K, 'раз')    "
      ],
      "metadata": {
        "colab": {
          "base_uri": "https://localhost:8080/"
        },
        "id": "OtYvtxe9GbHR",
        "outputId": "9258a01f-2f7e-4f70-8dd2-7926bb90b97b"
      },
      "execution_count": 1,
      "outputs": [
        {
          "output_type": "stream",
          "name": "stdout",
          "text": [
            "Введите число N\n",
            "657487\n",
            "Операция выполнена  27808 раз\n"
          ]
        }
      ]
    }
  ]
}