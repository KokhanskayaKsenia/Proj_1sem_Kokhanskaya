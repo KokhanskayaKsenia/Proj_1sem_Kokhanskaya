{
  "nbformat": 4,
  "nbformat_minor": 0,
  "metadata": {
    "colab": {
      "name": "ПЗ №11",
      "provenance": [],
      "authorship_tag": "ABX9TyNX2eyvemdxFJrI6pD0+PyR",
      "include_colab_link": true
    },
    "kernelspec": {
      "name": "python3",
      "display_name": "Python 3"
    },
    "language_info": {
      "name": "python"
    }
  },
  "cells": [
    {
      "cell_type": "markdown",
      "metadata": {
        "id": "view-in-github",
        "colab_type": "text"
      },
      "source": [
        "<a href=\"https://colab.research.google.com/github/KokhanskayaKsenia/Proj_1sem_Kokhanskaya/blob/master/%D0%9F%D0%97_%E2%84%9611.ipynb\" target=\"_parent\"><img src=\"https://colab.research.google.com/assets/colab-badge.svg\" alt=\"Open In Colab\"/></a>"
      ]
    },
    {
      "cell_type": "markdown",
      "source": [
        "Pz_3_1"
      ],
      "metadata": {
        "id": "fw0Pvg1eECdw"
      }
    },
    {
      "cell_type": "code",
      "execution_count": 1,
      "metadata": {
        "colab": {
          "base_uri": "https://localhost:8080/"
        },
        "id": "cPKXVhwnBuT3",
        "outputId": "e8986f91-1601-472f-e2a7-66bae26ea6f1"
      },
      "outputs": [
        {
          "output_type": "stream",
          "name": "stdout",
          "text": [
            "Введите значение A, которое целое число\n",
            "4.3\n",
            "Введите значение B, которое целое число\n",
            "4.3\n",
            "Не то ввели!\n",
            "Введите первое целое число: 45\n",
            "Не то ввели!\n",
            "Введите второе целое число: 23\n",
            "Ложь\n"
          ]
        }
      ],
      "source": [
        "#Даны два целых числа: A, B. Проверить истинность высказывания: \n",
        "# «Ровно одно из чисел A и B нечетное».\n",
        "print(\"Введите значение A, которое целое число\")\n",
        "A = input()\n",
        "print(\"Введите значение B, которое целое число\")\n",
        "B = input()\n",
        "while type(A) != int:  # Обработка исключений 1-го числа\n",
        "    try:\n",
        "        A = int(A)\n",
        "    except ValueError:\n",
        "        print(\"Не то ввели!\")\n",
        "        A = input(\"Введите первое целое число: \")\n",
        "\n",
        "while type(B) != int:  # Обработка исключений 2-го числа\n",
        "    try:\n",
        "        B = int(B)\n",
        "    except ValueError:\n",
        "        print(\"Не то ввели!\")\n",
        "        B = input(\"Введите второе целое число: \")\n",
        "if A%2 == 1:\n",
        "    if B%2 ==1:\n",
        "        print(\"Ложь\")\n",
        "    else:\n",
        "        print(\"Правда\")\n",
        "else:\n",
        "    if B%2 == 1:\n",
        "        print(\"Правда\")\n",
        "    else:\n",
        "        print(\"Ложь\")"
      ]
    },
    {
      "cell_type": "markdown",
      "source": [
        "Pz_4_1"
      ],
      "metadata": {
        "id": "xcqnsWTdEn5i"
      }
    },
    {
      "cell_type": "code",
      "source": [
        "#Дано целое число N (> 0). Найти сумму N2 + (N + 1)2 + (N + 2)2 + ... + (2N)2\n",
        "print(\"Введите целое число N, которое больше 0\")\n",
        "N = input()\n",
        "while type(N) != int:  # Обработка исключений 1-го числа\n",
        "    try:\n",
        "        N = int(N)\n",
        "    except ValueError:\n",
        "        print(\"Не то ввели!\")\n",
        "        N = input(\"Введите первое целое число: \")\n",
        "if N > 0:\n",
        "    i = 0\n",
        "    S = 0\n",
        "    for i in range(1, N+1):\n",
        "        S = S+(N+i)**2\n",
        "        i = i+1\n",
        "    print(\"Итог выражения равен \", S)\n",
        "else:\n",
        "    print(\"Не соответствует условию задачи\")"
      ],
      "metadata": {
        "colab": {
          "base_uri": "https://localhost:8080/"
        },
        "id": "aJYmGfNtEwcF",
        "outputId": "53f5271a-f348-45d0-8de0-8e3b807e1b03"
      },
      "execution_count": 2,
      "outputs": [
        {
          "output_type": "stream",
          "name": "stdout",
          "text": [
            "Введите целое число N, которое больше 0\n",
            "43.5\n",
            "Не то ввели!\n",
            "Введите первое целое число: 34\n",
            "Итог выражения равен  93449\n"
          ]
        }
      ]
    },
    {
      "cell_type": "markdown",
      "source": [
        "Pz_5_1"
      ],
      "metadata": {
        "id": "obF7iguWGXfm"
      }
    },
    {
      "cell_type": "code",
      "source": [
        "#Составить функцию решения задачи: из заданного числа вычли сумму его цифр.\n",
        "# Из результата вновь вычли сумму его цифр и т. д. \n",
        "# Через сколько таких действий получится нуль?\n",
        "print(\"Введите число N\")\n",
        "N = input()\n",
        "K = 0\n",
        "while type(N) != int:  # Обработка исключений 1-го числа\n",
        "    try:\n",
        "        N = int(N)\n",
        "    except ValueError:\n",
        "        print(\"Не то ввели!\")\n",
        "        N = input(\"Введите первое целое число: \")\n",
        "\n",
        "def sumDidgits(N): # Вычисляем сумму цифр.\n",
        "    sum = 0\n",
        "    while N!=0 :\n",
        "        sum += N%10\n",
        "        N = N//10\n",
        "    return sum\n",
        "\n",
        "while N!=0:\n",
        "    N = N-sumDidgits(N)\n",
        "    K = K+1\n",
        "print(\"Операция выполнена \", K, \"раз\")   "
      ],
      "metadata": {
        "colab": {
          "base_uri": "https://localhost:8080/"
        },
        "id": "OtYvtxe9GbHR",
        "outputId": "6648b6c2-e295-4ad1-bb56-2ef334df78a4"
      },
      "execution_count": 3,
      "outputs": [
        {
          "output_type": "stream",
          "name": "stdout",
          "text": [
            "Введите число N\n",
            "34.5\n",
            "Не то ввели!\n",
            "Введите первое целое число: 234\n",
            "Операция выполнена  24 раз\n"
          ]
        }
      ]
    }
  ]
}